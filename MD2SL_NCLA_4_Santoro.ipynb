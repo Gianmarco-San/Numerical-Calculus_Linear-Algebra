{
 "cells": [
  {
   "cell_type": "markdown",
   "metadata": {
    "id": "ef4QTtBT8e0j"
   },
   "source": [
    "# MD2DS - Master in Data Science and Statistical Learning\n",
    "\n",
    "**Numerical Calculus and Linear Algebra**\n",
    "\n",
    "Exercise: SOR\n",
    "\n",
    "Deadline: 31/3/2022"
   ]
  },
  {
   "cell_type": "code",
   "execution_count": 1,
   "metadata": {
    "id": "C9oHqeCj8OSr"
   },
   "outputs": [],
   "source": [
    "import numpy as np\n",
    "from scipy.sparse import csr_matrix, diags, tril\n",
    "from scipy.sparse.linalg import spsolve_triangular"
   ]
  },
  {
   "cell_type": "markdown",
   "metadata": {
    "id": "g29tKQr782Yl"
   },
   "source": [
    "# Exercise\n",
    "\n",
    "Consider a linear system $A\\mathbf{x} = \\mathbf{b}$.\n",
    "1.  Write a python function `my_SOR(A, x0, b, omega, tol, kmax)` that takes in input\n",
    "\n",
    "  -  $A\\in\\mathbb{R}^{m\\times m}$  : square matrix\n",
    "  -  $\\mathbf{x}_0\\in\\mathbb{R}^m$   : a first approximation of the system solution\n",
    "  -  $\\mathbf{b}\\in\\mathbb{R}^m$   : costant vector\n",
    "  -  $\\omega\\in(0,2)$                      : the relxation parameter\n",
    "  -  $\\texttt{tol}\\in\\mathbb{R}$   : a given tolerance\n",
    "  -  $\\texttt{kmax}\\in\\mathbb{N}$  : a maximum number of iterations\n",
    "\n",
    "  and returns\n",
    "  -  $\\mathbf{x}\\in\\mathbb{R}^m$ : the approximation of the solution of the linear system, obtained by implementing the Successive Over Relaxation method;\n",
    "  -  $\\texttt{it}$ : the number of the computed iterations.\n",
    "\n",
    "2.  Let\n",
    "\\begin{equation}\n",
    "      T_n = \\pmatrix{ 3       & -1     &        & \\huge 0 \\\\\n",
    "                     -1       & 3      & \\ddots & \\\\\n",
    "                              & \\ddots & \\ddots & -1 \\\\\n",
    "                     \\huge 0 &      & -1      & 3  }\\in\\mathbb{R}^{n \\times n}\n",
    "\\end{equation}\n",
    "\n",
    "  and define the sparse (possibly use the sparse format: $\\texttt{csr_matrix}$) matrix $A\\in\\mathbb{R}^{n^2\\times n^2}$ as\n",
    "      \\begin{equation}\n",
    "        A = T_n \\otimes I_n + I_n \\otimes T_n.\n",
    "      \\end{equation}\n",
    "\n",
    "  For $n=10,20,\\dots,50$ solve the linear system $A\\mathbf{x} = \\mathbf{b}$ with exact solution $\\mathbf{x} = \\pmatrix{1\\\\2\\\\\\vdots\\\\n^2}\\in\\mathbb{R}^{n^2}$ using the funcion `my_SOR` implemented at point (1) with\n",
    "  - $\\mathbf{x}_0 = \\pmatrix{0\\\\\\vdots\\\\0}\\in\\mathbb{R}^{n^2}$\n",
    "  - $\\omega = 0.8, 1, 1.2$\n",
    "  - $\\texttt{toll} = 10^{-5}$\n",
    "  - $\\texttt{kmax} = 10^{5}$\n",
    "  \n",
    "  Print\n",
    "  -  the condition number of $A$,\n",
    "  -  the number of computed iterations $\\texttt{it}$,\n",
    "  -  the relative error. "
   ]
  },
  {
   "cell_type": "code",
   "execution_count": 2,
   "metadata": {},
   "outputs": [],
   "source": [
    "def my_SOR(A, x0, b, om, toll, kmax):\n",
    "    \n",
    "    n    = len(b)\n",
    "    \n",
    "    nrb  = np.linalg.norm(b)\n",
    "    \n",
    "    go   = True\n",
    "    \n",
    "    it   = 1\n",
    "    \n",
    "    A    = A.reshape(n,n).toarray()\n",
    "    \n",
    "    Msor =  diags(np.diag(A)) + (om * tril(A, k = -1, format = \"csr\"))\n",
    "    \n",
    "    while it <= kmax and go:\n",
    "        \n",
    "        r  = A.dot(x0) - b      \n",
    "        go = (np.linalg.norm(r) > toll * nrb)\n",
    "        \n",
    "        if go:\n",
    "            \n",
    "            it += 1   \n",
    "            x0 = x0 + spsolve_triangular(Msor, om * -r, lower = True)  # lower = True : use only data contained in the lower triangle of A\n",
    "    \n",
    "    it -= 1\n",
    "    return x0, it\n"
   ]
  },
  {
   "cell_type": "code",
   "execution_count": null,
   "metadata": {},
   "outputs": [
    {
     "name": "stdout",
     "output_type": "stream",
     "text": [
      "-------------------------------------------------\n",
      "n         cond        omega     it       err_r \n",
      "-------------------------------------------------\n",
      "10        4.55e+00    0.8       23       1.09e-05\n",
      "10        4.55e+00    1.0       15       1.01e-05\n",
      "10        4.55e+00    1.2       12       1.57e-06\n",
      "20        4.87e+00    0.8       25       8.08e-06\n",
      "20        4.87e+00    1.0       16       1.01e-05\n",
      "20        4.87e+00    1.2       11       4.13e-06\n",
      "30        4.94e+00    0.8       25       9.48e-06\n",
      "30        4.94e+00    1.0       17       5.85e-06\n",
      "30        4.94e+00    1.2       11       4.55e-06\n",
      "40        4.96e+00    0.8       25       1.02e-05\n",
      "40        4.96e+00    1.0       17       6.29e-06\n",
      "40        4.96e+00    1.2       11       4.80e-06\n"
     ]
    }
   ],
   "source": [
    "toll  = 1e-5\n",
    "kmax  = 1e5\n",
    "omega = [0.8, 1.0, 1.2]\n",
    "\n",
    "print('-------------------------------------------------')\n",
    "print('n         cond        omega     it       err_r ')\n",
    "print('-------------------------------------------------')\n",
    "\n",
    "for n in range(10, 60, 10):  #(start, stop, step)\n",
    "        \n",
    "    T     = np.diag(3 * np.ones(n)) - np.diag(np.ones(n - 1), 1) - np.diag(np.ones(n - 1), -1)\n",
    "    A     = np.kron(T, np.eye(n)) + np.kron(np.eye(n), T)        \n",
    "    c     = np.linalg.cond(A)\n",
    "    A     = csr_matrix(A)\n",
    "    x0    = np.zeros(n ** 2)\n",
    "    xex   = np.arange(1, n ** 2 + 1)  # exact solution\n",
    "    b     = A.dot(xex)\n",
    "    \n",
    "    for om in omega:\n",
    "        x, it = my_SOR(A, x0, b, om, toll, kmax)\n",
    "\n",
    "        print(f'{n:2}        {c:.2e}    {om}     {it:4}       {np.linalg.norm(x - xex) / np.linalg.norm(xex):.2e}')\n",
    "\n",
    "print('-------------------------------------------------')\n"
   ]
  },
  {
   "cell_type": "code",
   "execution_count": null,
   "metadata": {},
   "outputs": [],
   "source": []
  }
 ],
 "metadata": {
  "colab": {
   "provenance": []
  },
  "kernelspec": {
   "display_name": "Python 3 (ipykernel)",
   "language": "python",
   "name": "python3"
  },
  "language_info": {
   "codemirror_mode": {
    "name": "ipython",
    "version": 3
   },
   "file_extension": ".py",
   "mimetype": "text/x-python",
   "name": "python",
   "nbconvert_exporter": "python",
   "pygments_lexer": "ipython3",
   "version": "3.10.9"
  }
 },
 "nbformat": 4,
 "nbformat_minor": 4
}
