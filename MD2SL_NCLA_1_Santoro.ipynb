{
 "cells": [
  {
   "cell_type": "markdown",
   "metadata": {
    "id": "kKyeK58sA8gG"
   },
   "source": [
    "# MD2SL - Master in Data Science and Statistical Learning\n",
    "\n",
    "**Numerical Calculus and Linear Algebra**\n",
    "\n",
    "Exercises 01: Introduction: errors and machine arithmetic\n",
    "\n",
    "Deadline: 31/03/2023  "
   ]
  },
  {
   "cell_type": "code",
   "execution_count": 298,
   "metadata": {
    "id": "Ucax5aJHwOgw"
   },
   "outputs": [],
   "source": [
    "# Installing packages.\n",
    "import numpy as np\n",
    "import math"
   ]
  },
  {
   "cell_type": "markdown",
   "metadata": {
    "id": "eJditikZtvvx"
   },
   "source": [
    "# Exercise 1\n",
    "1.  Write a function which takes in input $x\\in\\mathbb{R}$ and $n\\in\\mathbb{N}$ and returns the Taylor polynomial approximation of $\\sin(x)$ centered in $0$ of order $n$.\n",
    "\\begin{equation}\n",
    "  T_n(x) = \\sum_{k=0}^n\\frac{(-1)^k}{(2k+1)!}x^{2k+1}.\n",
    "\\end{equation}\n",
    "\n",
    "2.  Use the function of point (1) to compute $\\sin(x)$ for $n=20$ at points $x=\\frac{\\pi}{2}, \\frac{\\pi}{2} + 2\\cdot10^{16}\\pi$. Comment the results."
   ]
  },
  {
   "cell_type": "markdown",
   "metadata": {
    "id": "7GvMNeTTwDSQ"
   },
   "source": [
    "Exercise 1.1 - Solution."
   ]
  },
  {
   "cell_type": "code",
   "execution_count": 299,
   "metadata": {
    "id": "QOHM_cTyu4MD"
   },
   "outputs": [],
   "source": [
    "def my_sin(point, order):\n",
    "    \n",
    "    s = 0\n",
    "    p = 1\n",
    "    coefs = np.array([0, 1, 0, -1])\n",
    "    \n",
    "    for k in range(1, order + 1):\n",
    "        \n",
    "        p *= point / k\n",
    "        \n",
    "        # modulus func. gives the rest of the division, so an iteration on 1,2,3,0,1,2,3,0,...\n",
    "        s += p * coefs[k%4]\n",
    "        \n",
    "        # print(coefs[k%4])\n",
    "\n",
    "    return s\n",
    "\n",
    "\n",
    "## Another way, with only odd powers\n",
    "# def my_sin(point, order):\n",
    "    \n",
    "#     x = point\n",
    "#     n = order\n",
    "    \n",
    "#     s = x\n",
    "#     p = 1\n",
    "#     coefs = np.array([0, 1, 0, -1])\n",
    "    \n",
    "    \n",
    "#     num1 = 1\n",
    "#     num2 = x\n",
    "#     den  = 1\n",
    "\n",
    "#     for k in range(1, n + 1):\n",
    "        \n",
    "#         #TODO: complete the algorithm\n",
    "        \n",
    "#         num1 *= -1\n",
    "#         num2 *= x ** 2\n",
    "#         num = num1 * num2\n",
    "        \n",
    "#         den *= (2*k) * (2*k + 1)\n",
    "            \n",
    "#         s += (num/den)\n",
    "        \n",
    "#     return s\n"
   ]
  },
  {
   "cell_type": "markdown",
   "metadata": {
    "id": "xsj177WmwGa1"
   },
   "source": [
    "Exercise 1.2 - Solution."
   ]
  },
  {
   "cell_type": "code",
   "execution_count": 301,
   "metadata": {
    "id": "dz0bQBAGwJt9"
   },
   "outputs": [
    {
     "name": "stdout",
     "output_type": "stream",
     "text": [
      "\n",
      "sin(x1) = 1.0\n",
      "sin(x2) = -0.6955986701090969\n",
      "Where:\n",
      "\t x1 = pi/2\n",
      "\t x2 = pi/2 + 2•10^16•pi\n",
      "\n",
      "Approximation of sin\n",
      "\n",
      "------------------------------------------------------------------------------\n",
      " err-rel                err-abs                solution                 point\n",
      "------------------------------------------------------------------------------\n",
      "\n",
      "with n = 2:\n",
      "\n",
      "5.707963e-01\t\t5.707963e-01\t\t1.5707963267948966\t x1\n",
      "-9.032774e+16\t\t6.283185e+16\t\t6.2831853071795864e+16\t x2 \n",
      "\n",
      "with n = 4:\n",
      "\n",
      "7.516777e-02\t\t7.516777e-02\t\t0.9248322292886504\t x1\n",
      "-5.943327e+49\t\t4.134170e+49\t\t-4.1341702240399763e+49\t x2 \n",
      "\n",
      "with n = 6:\n",
      "\n",
      "4.524856e-03\t\t4.524856e-03\t\t1.0045248555348174\t x1\n",
      "-1.173166e+82\t\t8.160525e+81\t\t8.160524927607507e+81\t x2 \n",
      "\n",
      "with n = 8:\n",
      "\n",
      "1.568986e-04\t\t1.568986e-04\t\t0.9998431013994987\t x1\n",
      "-1.102732e+114\t\t7.670586e+113\t\t-7.67058597530614e+113\t x2 \n",
      "\n",
      "with n = 10:\n",
      "\n",
      "3.542584e-06\t\t3.542584e-06\t\t1.0000035425842861\t x1\n",
      "-6.046402e+145\t\t4.205869e+145\t\t4.205869394489766e+145\t x2 \n",
      "\n",
      "with n = 12:\n",
      "\n",
      "5.625895e-08\t\t5.625895e-08\t\t0.999999943741051\t x1\n",
      "-2.170022e+177\t\t1.509464e+177\t\t-1.509464257682299e+177\t x2 \n",
      "\n",
      "with n = 14:\n",
      "\n",
      "6.627803e-10\t\t6.627803e-10\t\t1.0000000006627803\t x1\n",
      "-5.491604e+208\t\t3.819953e+208\t\t3.819952584848282e+208\t x2 \n",
      "\n",
      "with n = 16:\n",
      "\n",
      "6.023182e-12\t\t6.023182e-12\t\t0.9999999999939768\t x1\n",
      "-1.032380e+240\t\t7.181223e+239\t\t-7.181223017785004e+239\t x2 \n",
      "\n",
      "with n = 18:\n",
      "\n",
      "4.374279e-14\t\t4.374279e-14\t\t1.0000000000000437\t x1\n",
      "-1.498409e+271\t\t1.042292e+271\t\t1.0422916220813981e+271\t x2 \n",
      "\n",
      "with n = 20:\n",
      "\n",
      "0.000000e+00\t\t0.000000e+00\t\t1.0\t x1\n",
      "nan\t\tnan\t\tnan\t x2 \n",
      "\n"
     ]
    },
    {
     "name": "stderr",
     "output_type": "stream",
     "text": [
      "/var/folders/f8/tt2310p13h92yx40ly045ysc0000gn/T/ipykernel_54912/2303759308.py:12: RuntimeWarning: invalid value encountered in multiply\n",
      "  s += p * coefs[k%4]\n"
     ]
    }
   ],
   "source": [
    "#TO DO: complete the script; print the results and comment them.\n",
    "# n = 20\n",
    "\n",
    "x1 = math.pi/2\n",
    "x2 = math.pi/2 + 2 * (10 ** 16) * math.pi\n",
    "\n",
    "print(f\"\\nsin(x1) = {math.sin(x1)}\")\n",
    "print(f\"sin(x2) = {math.sin(x2)}\")\n",
    "print(\"Where:\\n\\t x1 = pi/2\\n\\t x2 = pi/2 + 2•10^16•pi\")\n",
    "\n",
    "print('\\nApproximation of sin\\n')\n",
    "print('------------------------------------------------------------------------------')\n",
    "print(' err-rel                err-abs                solution                 point')\n",
    "print('------------------------------------------------------------------------------\\n')\n",
    "\n",
    "for n in range(1, 21):\n",
    "    if n%2 == 0:\n",
    "        \n",
    "        y1   = my_sin(x1, n)\n",
    "        err_ass1 = abs(y1 - math.sin(x1))\n",
    "        err_rel1 = err_ass1 / math.sin(x1)\n",
    "\n",
    "        y2   = my_sin(x2, n)\n",
    "        err_ass2 = abs(y2 - math.sin(x2))\n",
    "        err_rel2 = err_ass2 / math.sin(x2)\n",
    "        \n",
    "        print(f\"with n = {n}:\\n\")\n",
    "        print(str(\"{:e}\".format(err_rel1)) + \"\\t\\t\" + \"{:e}\".format(err_ass1) + \"\\t\\t\" + str(y1) + '\\t x1')\n",
    "        print(str(\"{:e}\".format(err_rel2)) + \"\\t\\t\" + \"{:e}\".format(err_ass2) + \"\\t\\t\" + str(y2) + '\\t x2 \\n')\n"
   ]
  },
  {
   "cell_type": "markdown",
   "metadata": {
    "id": "Ee1irF3X5hW2"
   },
   "source": [
    "Comment.\n",
    "\n",
    "Why $sin(x_2) =  \\texttt{nan}$ ?\n",
    "\n",
    "Why does the following error message appear?\n",
    "\n",
    "```\n",
    "RuntimeWarning: invalid value encountered in multiply\n",
    "```\n",
    "---\n",
    "\n",
    "For increasing values of n:\n",
    "\n",
    "    • Approximated x1 gets better, converging to the exact value\n",
    "\n",
    "    • While x2 somehow diverges. In particular, for n = 20, the following error message appears:\n",
    "\n",
    "        \"RuntimeWarning: invalid value encountered in multiply\"\n",
    "\n",
    "          s += p * coefs[k%4]\n",
    "\n",
    "            Since it's trying here to multiply a very big number times 0. \n",
    "\n",
    "            So, as machine-numbers, at the previos step, \"p\" was about 10^271 and considering 31÷32 increasing in the power per step, it could be an overflow, since it would obtain a number near the ~10^308, difficult to be handled, which is the threshold in Double Precision (64 bit).\n",
    "\n",
    "            Thus, finally:\n",
    "                    ~inf * 0, which gives back a \"nan\"\n",
    "        "
   ]
  },
  {
   "cell_type": "markdown",
   "metadata": {
    "id": "gpqUb0p8xWwE"
   },
   "source": [
    "# Exercise 2\n",
    "Consider the function $f(x) = x^4$ and the following approximations of its first derivative $f'(x)$ via the finite differences \n",
    "\\begin{equation}\n",
    "\\phi_{h,f}^1(x) = \\frac{f(x+h)-f(x)}{h}, \\quad \\phi_{h,f}^2(x) = \\frac{f(x+h)-f(x-h)}{2h}.\n",
    "\\end{equation}\n",
    "1.  Compute the absolute discretization error for $\\phi_{h,f}^1$ and $\\phi_{h,f}^2$ at $x=1$ for $h=10^{-j}$, $j=1,\\dots,12$ and print the results on the video (exponential format).\n",
    "2.  Comment the results taking into account that, for sufficiently regular functions, the error goes to $0$ for $h\\to0$ as $O(h)$ or $O(h^2)$ for $\\phi_{h,f}^1$ and $\\phi_{h,f}^2$, resepctively."
   ]
  },
  {
   "cell_type": "markdown",
   "metadata": {
    "id": "U7EhZLVKAqQm"
   },
   "source": [
    "Exercise 2.1 - Solution."
   ]
  },
  {
   "cell_type": "code",
   "execution_count": 302,
   "metadata": {
    "id": "ltNY3sSvzidp"
   },
   "outputs": [],
   "source": [
    "def fun(x):\n",
    "  return x ** 4\n",
    "\n",
    "def der1_fun(x):\n",
    "  return 4 * (x ** 3)"
   ]
  },
  {
   "cell_type": "code",
   "execution_count": 304,
   "metadata": {
    "id": "jEozHWE50Knk"
   },
   "outputs": [
    {
     "name": "stdout",
     "output_type": "stream",
     "text": [
      "\n",
      "Numerical Derivative\n",
      "\n",
      "---------------------------------------------------------------------\n",
      " h       r1              r2              err1_a          err2_a\n",
      "---------------------------------------------------------------------\n",
      "0.1\t4.641000e+00\t4.040000e+00\t6.410000e-01\t4.000000e-02\t\n",
      "0.01\t4.060401e+00\t4.000400e+00\t6.040100e-02\t4.000000e-04\t\n",
      "0.001\t4.006004e+00\t4.000004e+00\t6.004001e-03\t4.000000e-06\t\n",
      "0.0001\t4.000600e+00\t4.000000e+00\t6.000400e-04\t3.999923e-08\t\n",
      "1e-05\t4.000060e+00\t4.000000e+00\t6.000043e-05\t4.036806e-10\t\n",
      "1e-06\t4.000006e+00\t4.000000e+00\t5.999760e-06\t5.151080e-11\t\n",
      "1e-07\t4.000001e+00\t4.000000e+00\t6.018559e-07\t1.150227e-10\t\n",
      "1e-08\t4.000000e+00\t4.000000e+00\t4.230350e-08\t3.445692e-09\t\n",
      "1e-09\t4.000000e+00\t4.000000e+00\t3.309615e-07\t1.089169e-07\t\n",
      "1e-10\t4.000000e+00\t4.000000e+00\t3.309615e-07\t3.309615e-07\t\n",
      "1e-11\t4.000000e+00\t4.000000e+00\t3.309615e-07\t3.309615e-07\t\n",
      "1e-12\t4.000356e+00\t4.000134e+00\t3.556023e-04\t1.335577e-04\t\n",
      "---------------------------------------------------------------------\n",
      "\n"
     ]
    }
   ],
   "source": [
    "x = 1\n",
    "\n",
    "r = der1_fun(x)\n",
    "\n",
    "print('\\nNumerical Derivative\\n')\n",
    "print('---------------------------------------------------------------------')\n",
    "print(' h       r1              r2              err1_a          err2_a')\n",
    "print('---------------------------------------------------------------------')\n",
    "\n",
    "for j in range(1, 12 + 1):\n",
    "    \n",
    "    h = 10 ** (-j)   # derivative step\n",
    "    \n",
    "    # TODO: compute \\phi1\n",
    "    r1 = (fun(x+h) - fun(x)) / h\n",
    "    \n",
    "    # TODO: compute \\phi2\n",
    "    r2 = (fun(x+h) - (fun(x-h))) / (2*h)\n",
    "\n",
    "    err1_a = abs(r1 - r)\n",
    "    err2_a = abs(r2 - r)\n",
    "    \n",
    "    # TODO: print the results\n",
    "    print(str(h) + \"\\t\" + \"{:e}\".format(r1) + \"\\t\" + \"{:e}\".format(r2) + \"\\t\" + \"{:e}\".format(err1_a) + \"\\t\" + \"{:e}\".format(err2_a) + \"\\t\")\n",
    "    \n",
    "print('---------------------------------------------------------------------\\n')\n",
    "    "
   ]
  },
  {
   "cell_type": "markdown",
   "metadata": {
    "id": "j87EDd7qAwQ7"
   },
   "source": [
    "Exercise 2.2 - Solution."
   ]
  },
  {
   "cell_type": "markdown",
   "metadata": {
    "id": "G-i6y3hX-KeR"
   },
   "source": [
    "Comment.\n",
    "\n",
    "Is the error behaviour aligned with the theoretical results?\n",
    "If not, why?\n",
    "\n",
    "---\n",
    "\n",
    "Theoretically, for sufficiently regular functions, the error goes to  0  for  ℎ→0  as  𝑂(ℎ)  or  𝑂(ℎ2)  for  𝜙1ℎ,𝑓  and  𝜙2ℎ,𝑓 , respectively.\n",
    "\n",
    "But we can notice that in this practical case:\n",
    "\n",
    "    • For 𝜙1ℎ,𝑓 the error decreases until the 8th iteration (h = 1e-08), when it reaches the minimum value of 4.230350e-08, then it starts to grow.\n",
    "    \n",
    "    • For 𝜙2ℎ,𝑓, again, the error decreases until the 6th iteration (h = 1e-06), faster than 𝜙1ℎ,𝑓, when it reaches the minimum value of 5.151080e-11, then it starts to grow, slower than 𝜙1ℎ,𝑓.\n",
    " \n",
    "    Even if the algorithm gets better for smaller h, at those points, some rounding problems occur and influence the outcomes.\n",
    "    \n",
    "    Finally, 𝜙2ℎ,𝑓 looks overall more precise in solving this problem.\n",
    "    \n",
    "    \n"
   ]
  },
  {
   "cell_type": "markdown",
   "metadata": {
    "id": "fJqs73ub-Ylj"
   },
   "source": [
    "# Exercise 3\n",
    "Consider the following second order equation\n",
    "\\begin{equation}\n",
    "  x^2 - 2x + \\delta = 0.\n",
    "\\end{equation}\n",
    "The solutions are\n",
    "\\begin{equation}\n",
    "  x_1 = 1 + \\sqrt{1-\\delta}\\quad \\text{and}\\quad x_2 = 1 - \\sqrt{1-\\delta}.  \n",
    "\\end{equation}\n",
    "\n",
    "1.  Compute $x_1$ and $x_2$ for different input $\\delta$ values.\n",
    "2.  Using the function(s) of point (1), evaluate $x_1$ and $x_2$ for  $\\delta = 10^{-1}, 10^{-3}, 10^{-8}$.\n",
    "Compare and comment the results with the ones obtained using the predefinite numpy function ```np.roots(p)``` , which returns the roots of a polynomial with coefficients given in `p`.\n",
    "3. Is it possible to improve the results using a different formula to compute $x_2$?\n",
    "\n"
   ]
  },
  {
   "cell_type": "markdown",
   "metadata": {
    "id": "XXpe2GOiBTaC"
   },
   "source": [
    "Exercise 3.1 - Solution."
   ]
  },
  {
   "cell_type": "code",
   "execution_count": 305,
   "metadata": {
    "id": "MMQg98QWBWYi"
   },
   "outputs": [],
   "source": [
    "def solution_1(delta):\n",
    "    #TO DO: compute x_1\n",
    "    return (1 + math.sqrt(1-delta))\n",
    "\n",
    "def solution_2(delta):\n",
    "    #TO DO: compute x_2\n",
    "    return (1 - math.sqrt(1-delta))"
   ]
  },
  {
   "cell_type": "markdown",
   "metadata": {
    "id": "PnSsVHSHDjt3"
   },
   "source": [
    "Exercise 3.2 - Solution"
   ]
  },
  {
   "cell_type": "code",
   "execution_count": 307,
   "metadata": {
    "colab": {
     "base_uri": "https://localhost:8080/"
    },
    "id": "vXMpqnDWBul0",
    "outputId": "314d968e-6e7d-490b-a840-372008ef4d4c"
   },
   "outputs": [
    {
     "name": "stdout",
     "output_type": "stream",
     "text": [
      "\n",
      "II order equation\n",
      "\n",
      "---------------------------------------------\n",
      " delta           err1_r          err2_r\n",
      "---------------------------------------------\n",
      "1.000000e-01\t0.000000e+00\t5.408683e-16\t\n",
      "1.000000e-03\t0.000000e+00\t8.498019e-14\t\n",
      "1.000000e-08\t0.000000e+00\t1.362699e-08\t\n",
      "---------------------------------------------\n",
      "\n"
     ]
    }
   ],
   "source": [
    "print('\\nII order equation\\n')\n",
    "print('---------------------------------------------')\n",
    "print(' delta           err1_r          err2_r')\n",
    "print('---------------------------------------------')\n",
    "\n",
    "for i in [-1, -3, -8]:\n",
    "    \n",
    "    delta = 10 ** i\n",
    "    \n",
    "    #TO DO: compute x1\n",
    "    my_x1 = solution_1(delta)\n",
    "\n",
    "    #TO DO: compute x2\n",
    "    my_x2 = solution_2(delta)\n",
    "\n",
    "    sol   = np.roots(np.array([1, -2, delta]))\n",
    "\n",
    "    x1    = sol[0]\n",
    "    x2    = sol[1]\n",
    "    \n",
    "    #TO DO: compute error\n",
    "    err1_r = abs(my_x1 - x1) / x1\n",
    "    \n",
    "    #TO DO: compute error\n",
    "    err2_r = abs(my_x2 - x2) / x2\n",
    " \n",
    "    \n",
    "    # TODO: print the results\n",
    "    print(\"{:e}\".format(delta) + \"\\t\" + \"{:e}\".format(err1_r) + \"\\t\" + \"{:e}\".format(err2_r) + \"\\t\")\n",
    "    \n",
    "print('---------------------------------------------\\n')"
   ]
  },
  {
   "cell_type": "markdown",
   "metadata": {
    "id": "jiYu37x8Etza"
   },
   "source": [
    "Comment.\n",
    "\n",
    "What happens to $x_2$?\n",
    "\n",
    "---\n",
    "\n",
    "\n",
    "During the $x_2$ computing, there's catastrophic cancellation.\n",
    "\n",
    "It happens because there is a subtraction of two very close numbers, leading to amplified errors by conditional number k, which generally is:\n",
    "\n",
    "\\begin{equation}\n",
    "k=\\frac{|x_1|+|x_2|}{|x_1+x_2|}\n",
    "\\end{equation}\n",
    "\n",
    "The smaller the delta, the greater becomes the error.\n",
    "The problem is said to be ill-coditioned."
   ]
  },
  {
   "cell_type": "markdown",
   "metadata": {
    "id": "necHubmOEyWj"
   },
   "source": [
    "Exercise 3.3 - Solution.\n",
    "\n",
    "Hint: given \n",
    "\\begin{equation}\n",
    "  ax^2 + bx + c = 0\n",
    "\\end{equation}\n",
    "let $x_1$ and $x_2$ be its roots. Hence,\n",
    "\\begin{split}\n",
    "  &x_1 + x_2 = -\\frac{b}{a},\\\\\n",
    "  &x_1 * x_2 = \\frac{c}{a}.\n",
    "\\end{split}\n",
    "\n",
    "In our case ...\n",
    "\n"
   ]
  },
  {
   "cell_type": "code",
   "execution_count": 309,
   "metadata": {
    "id": "nNAgzXmTHO4t"
   },
   "outputs": [
    {
     "name": "stdout",
     "output_type": "stream",
     "text": [
      "\n",
      "II order equation\n",
      "\n",
      "---------------------------------------------\n",
      " delta           err1_r          err2_r\n",
      "---------------------------------------------\n",
      "1.000000e-01\t0.000000e+00\t0.000000e+00\t\n",
      "1.000000e-03\t0.000000e+00\t0.000000e+00\t\n",
      "1.000000e-08\t0.000000e+00\t0.000000e+00\t\n",
      "---------------------------------------------\n",
      "\n"
     ]
    }
   ],
   "source": [
    "print('\\nII order equation\\n')\n",
    "print('---------------------------------------------')\n",
    "print(' delta           err1_r          err2_r')\n",
    "print('---------------------------------------------')\n",
    "\n",
    "for i in [-1, -3, -8]:\n",
    "    \n",
    "    delta = 10 ** i\n",
    "    \n",
    "    #TO DO: compute x1\n",
    "    my_x1 = solution_1(delta)\n",
    "\n",
    "    #TO DO: compute x2\n",
    "    my_x2 = delta / my_x1\n",
    "\n",
    "    sol   = np.roots(np.array([1, -2, delta]))\n",
    "\n",
    "    x1    = sol[0]\n",
    "    x2    = sol[1]\n",
    "    \n",
    "    # print(f\"x1={x1}\\tmy_x1={my_x1}\\tx2={x2}\\tmy_x2={my_x2}\\t\")\n",
    "    \n",
    "    #TO DO: compute error\n",
    "    err1_r = abs(my_x1 - x1) / x1\n",
    "    \n",
    "    #TO DO: compute error\n",
    "    err2_r = abs(my_x2 - x2) / x2\n",
    "    \n",
    "    # TODO: print the results\n",
    "    print(\"{:e}\".format(delta) + \"\\t\" + \"{:e}\".format(err1_r) + \"\\t\" + \"{:e}\".format(err2_r) + \"\\t\")\n",
    "    \n",
    "print('---------------------------------------------\\n')"
   ]
  }
 ],
 "metadata": {
  "colab": {
   "provenance": []
  },
  "kernelspec": {
   "display_name": "Python 3 (ipykernel)",
   "language": "python",
   "name": "python3"
  },
  "language_info": {
   "codemirror_mode": {
    "name": "ipython",
    "version": 3
   },
   "file_extension": ".py",
   "mimetype": "text/x-python",
   "name": "python",
   "nbconvert_exporter": "python",
   "pygments_lexer": "ipython3",
   "version": "3.10.9"
  }
 },
 "nbformat": 4,
 "nbformat_minor": 4
}
